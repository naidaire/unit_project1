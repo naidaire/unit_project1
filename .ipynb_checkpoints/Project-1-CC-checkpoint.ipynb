{
 "cells": [
  {
   "cell_type": "markdown",
   "metadata": {},
   "source": [
    "<img src=\"http://imgur.com/1ZcRyrc.png\" style=\"float: left; margin: 20px; height: 55px\">\n",
    "\n",
    "# Project 1: Python Coding Exercises\n",
    "\n",
    "_Authors: Joseph Nelson (DC) _\n",
    "\n",
    "---"
   ]
  },
  {
   "cell_type": "markdown",
   "metadata": {},
   "source": [
    "The following code challenges are drawn from common exercises used in technical interviews.\n",
    "\n",
    "Note that there may be several ways to approach each challenge!"
   ]
  },
  {
   "cell_type": "markdown",
   "metadata": {},
   "source": [
    "### Challenge 1: Largest Palindrome\n",
    "A palindromic number reads the same both ways. For example, 1234321 is a palindrome. The largest palindrome made from the product of two two-digit numbers is 9009 = 91 × 99. Find the largest palindrome made from the product of two three-digit numbers."
   ]
  },
  {
   "cell_type": "code",
   "execution_count": 1,
   "metadata": {
    "collapsed": true
   },
   "outputs": [],
   "source": [
    "#create method to test if string is Palindrome:\n",
    "\n",
    "def is_palin(number):\n",
    "    if str(number) == str(number)[::-1]:\n",
    "        return number\n",
    "    else:\n",
    "        return -1"
   ]
  },
  {
   "cell_type": "code",
   "execution_count": 2,
   "metadata": {},
   "outputs": [
    {
     "name": "stdout",
     "output_type": "stream",
     "text": [
      "906609\n"
     ]
    }
   ],
   "source": [
    "palindrome_list = []\n",
    "\n",
    "#find the product of each number combination and store to palindrome_list i\n",
    "for a_num in range(1,1000):\n",
    "    for b_num in range(1,1000):\n",
    "        num_product = a_num*b_num\n",
    "        if is_palin(num_product) > 0:\n",
    "            palindrome_list.append(num_product)\n",
    "\n",
    "print(max(palindrome_list))\n",
    "  "
   ]
  },
  {
   "cell_type": "markdown",
   "metadata": {},
   "source": [
    "\n",
    "### Challenge 2: Summation of Primes\n",
    "The sum of the primes below 10 is 2 + 3 + 5 + 7 = 17. Find the sum of all the primes below 2,000."
   ]
  },
  {
   "cell_type": "code",
   "execution_count": 5,
   "metadata": {},
   "outputs": [
    {
     "name": "stdout",
     "output_type": "stream",
     "text": [
      "Sum of prime numbers between 1 and 2000 is: 277050\n"
     ]
    }
   ],
   "source": [
    "prime_list = []\n",
    "\n",
    "for a_num in range(1,2000):\n",
    "    #store list of natural numbers by testing a_num % b_num == 0\n",
    "    natural_number_list = []\n",
    "    for b_num in range(1,2000):\n",
    "        if a_num % b_num == 0:\n",
    "            natural_number_list.append(a_num)\n",
    "    \n",
    "#test for prime numbers, which have a natural_number_list of 2 since they are only divisible by itself and 1\n",
    "    if len(natural_number_list) == 2:\n",
    "        prime_list.append(a_num)\n",
    "\n",
    "\n",
    "#print(prime_list)\n",
    "print(\"Sum of prime numbers between 1 and 2000 is:\",sum(prime_list))"
   ]
  },
  {
   "cell_type": "markdown",
   "metadata": {},
   "source": [
    "### Challenge 3: Multiples of 3 and 5\n",
    "If we list all of the natural numbers below 10 that are multiples of 3 or 5, we get 3, 5, 6, and 9. The sum of these multiples is 23. Find the sum of all the multiples of 3 and 5 below 1,000."
   ]
  },
  {
   "cell_type": "code",
   "execution_count": 6,
   "metadata": {},
   "outputs": [
    {
     "name": "stdout",
     "output_type": "stream",
     "text": [
      "233168\n"
     ]
    }
   ],
   "source": [
    "three_or_five_list = []\n",
    "\n",
    "for number in range(1,1000):\n",
    "    if number % 3 == 0 or number % 5 == 0:\n",
    "        three_or_five_list.append(number)\n",
    "\n",
    "#print(three_or_five_list)\n",
    "print(sum(three_or_five_list))"
   ]
  },
  {
   "cell_type": "markdown",
   "metadata": {},
   "source": [
    "### Challenge 4: String Compressor\n",
    "Implement a method to perform basic string compression using the counts of repeated characters. (This is called run-length encoding.) For example, the string \"aabcccccaaa\" would become a2b1c5a3. If the “compressed” string would not become smaller than the original string, your method should return the original string. You can assume the string has only uppercase and lowercase letters (a–z). Specify whether your solution is case sensitive or case insensitive and what you would need to change to make it the other."
   ]
  },
  {
   "cell_type": "code",
   "execution_count": 7,
   "metadata": {
    "collapsed": true
   },
   "outputs": [],
   "source": [
    "#this solution is case converts all letters to lower case; therefore not case sensitive.  \n",
    "#To make it sensitive to case, remove the .lower() method, and C vs. c will have different counts\n",
    "\n",
    "def str_compress(string):\n",
    "    list = []\n",
    "    count = 1\n",
    "    prior_letter = word[0]  #start with the first letter in the word\n",
    "\n",
    "    for letter in word[1:]:  #evaluate the remaining letters\n",
    "        if prior_letter.lower() == letter.lower():  #run of the counter if the letters match\n",
    "            count = count + 1\n",
    "        else:\n",
    "            list.append(prior_letter+str(count))   #store the prior_letter and count before resetting letter and count\n",
    "            prior_letter = letter.lower()\n",
    "            count = 1\n",
    "\n",
    "    #store the last letter in the word and count\n",
    "    list.append(letter.lower()+str(count))\n",
    "\n",
    "    return ''.join(list)"
   ]
  },
  {
   "cell_type": "code",
   "execution_count": 8,
   "metadata": {},
   "outputs": [
    {
     "data": {
      "text/plain": [
       "'a3b1c4d1a3e1'"
      ]
     },
     "execution_count": 8,
     "metadata": {},
     "output_type": "execute_result"
    }
   ],
   "source": [
    "word = \"aaAbCcccdaaae\"\n",
    "str_compress(word)"
   ]
  },
  {
   "cell_type": "markdown",
   "metadata": {},
   "source": [
    "# Bonus Challenge: FizzBuzz Extreme\n",
    "Find or develop three different solutions to the following problem, in Python, that are as different from one another as possible. Which one do you prefer? Why? In what ways are the alternative solutions better?\n",
    "\n",
    "Write a program that prints all of the numbers from 1 to 100. For multiples of 3, instead of the number, print \"Fizz;\" for multiples of 5, print \"Buzz.\" For numbers that are multiples of both 3 and 5, print \"FizzBuzz.\""
   ]
  },
  {
   "cell_type": "code",
   "execution_count": 87,
   "metadata": {},
   "outputs": [
    {
     "name": "stdout",
     "output_type": "stream",
     "text": [
      "1\n",
      "2\n",
      "fizz\n",
      "4\n",
      "buzz\n",
      "fizz\n",
      "7\n",
      "8\n",
      "fizz\n",
      "buzz\n",
      "11\n",
      "fizz\n",
      "13\n",
      "14\n",
      "fizzbuzz\n",
      "16\n",
      "17\n",
      "fizz\n",
      "19\n",
      "buzz\n",
      "fizz\n",
      "22\n",
      "23\n",
      "fizz\n",
      "buzz\n",
      "26\n",
      "fizz\n",
      "28\n",
      "29\n",
      "fizzbuzz\n"
     ]
    }
   ],
   "source": [
    "#very readable code.  My original code from the lesson\n",
    "#lacks efficiency since it requires multiple if/elif/else statements\n",
    "\n",
    "for num in range(1,31):\n",
    "    if num % 3 == 0 and num %5 == 0:\n",
    "        print(\"fizzbuzz\")\n",
    "    elif num % 3 == 0:\n",
    "        print(\"fizz\")\n",
    "    elif num % 5 == 0:\n",
    "        print(\"buzz\")\n",
    "    else:\n",
    "        print(num)\n",
    "        "
   ]
  },
  {
   "cell_type": "code",
   "execution_count": 88,
   "metadata": {},
   "outputs": [
    {
     "name": "stdout",
     "output_type": "stream",
     "text": [
      "1\n",
      "2\n",
      "Fizz\n",
      "4\n",
      "Buzz\n",
      "Fizz\n",
      "7\n",
      "8\n",
      "Fizz\n",
      "Buzz\n",
      "11\n",
      "Fizz\n",
      "13\n",
      "14\n",
      "FizzBuzz\n",
      "16\n",
      "17\n",
      "Fizz\n",
      "19\n",
      "Buzz\n",
      "Fizz\n",
      "22\n",
      "23\n",
      "Fizz\n",
      "Buzz\n",
      "26\n",
      "Fizz\n",
      "28\n",
      "29\n",
      "FizzBuzz\n"
     ]
    }
   ],
   "source": [
    "#This code is really short and fits on one line.  \n",
    "#Also looks efficient since it's performing one evaluation through each loop, and discards the needs for IF statements\n",
    "\n",
    "print(\"\\n\".join([\"Fizz\"*(i%3==0)+\"Buzz\"*(i%5==0) or str(i) for i in range(1,31)]))"
   ]
  },
  {
   "cell_type": "code",
   "execution_count": 89,
   "metadata": {},
   "outputs": [
    {
     "name": "stdout",
     "output_type": "stream",
     "text": [
      "1\n",
      "2\n",
      "Fizz\n",
      "4\n",
      "Buzz\n",
      "Fizz\n",
      "7\n",
      "8\n",
      "Fizz\n",
      "Buzz\n",
      "11\n",
      "Fizz\n",
      "13\n",
      "14\n",
      "FizzBuzz\n",
      "16\n",
      "17\n",
      "Fizz\n",
      "19\n",
      "Buzz\n",
      "Fizz\n",
      "22\n",
      "23\n",
      "Fizz\n",
      "Buzz\n",
      "26\n",
      "Fizz\n",
      "28\n",
      "29\n",
      "FizzBuzz\n"
     ]
    }
   ],
   "source": [
    "#Similar to the first solution, this is very readable\n",
    "# But also more efficient than the prior code by appending BUZZ to FIZZ vs. iterating for FIZZBUZZ, FIZZ, and BUZZ\n",
    "# I like this code the most because it balances efficiency with legibility\n",
    "\n",
    "for x in list(range(1,31)):\n",
    "    output = \"\"\n",
    "    if(x % 3 == 0):\n",
    "        output += 'Fizz'\n",
    "    if(x % 5 == 0):\n",
    "        output += 'Buzz'\n",
    "    if(output == \"\"):\n",
    "        output += str(x)\n",
    "    print(output)"
   ]
  },
  {
   "cell_type": "code",
   "execution_count": null,
   "metadata": {
    "collapsed": true
   },
   "outputs": [],
   "source": []
  },
  {
   "cell_type": "code",
   "execution_count": null,
   "metadata": {
    "collapsed": true
   },
   "outputs": [],
   "source": []
  }
 ],
 "metadata": {
  "anaconda-cloud": {},
  "kernelspec": {
   "display_name": "Python 3",
   "language": "python",
   "name": "python3"
  },
  "language_info": {
   "codemirror_mode": {
    "name": "ipython",
    "version": 3
   },
   "file_extension": ".py",
   "mimetype": "text/x-python",
   "name": "python",
   "nbconvert_exporter": "python",
   "pygments_lexer": "ipython3",
   "version": "3.6.3"
  }
 },
 "nbformat": 4,
 "nbformat_minor": 2
}
